{
  "nbformat": 4,
  "nbformat_minor": 0,
  "metadata": {
    "colab": {
      "name": "Assignment-2",
      "provenance": [],
      "collapsed_sections": [],
      "authorship_tag": "ABX9TyP3qq/VnV8V1507fexiCt08",
      "include_colab_link": true
    },
    "kernelspec": {
      "name": "python3",
      "display_name": "Python 3"
    }
  },
  "cells": [
    {
      "cell_type": "markdown",
      "metadata": {
        "id": "view-in-github",
        "colab_type": "text"
      },
      "source": [
        "<a href=\"https://colab.research.google.com/github/18K41A0474/Assignment-2/blob/master/Assignment_2.ipynb\" target=\"_parent\"><img src=\"https://colab.research.google.com/assets/colab-badge.svg\" alt=\"Open In Colab\"/></a>"
      ]
    },
    {
      "cell_type": "code",
      "metadata": {
        "id": "1SwlmRWmYMdT",
        "colab_type": "code",
        "colab": {
          "base_uri": "https://localhost:8080/",
          "height": 85
        },
        "outputId": "9c02fa0b-1a5d-47f3-8c3b-7ecc1e5c464a"
      },
      "source": [
        "#1. Given the lengths of three sides of a triangle, calculate the area of the triangle.\n",
        "a=int(input(\"Enter length a: \"))\n",
        "b=int(input(\"Enter length b: \"))\n",
        "c=int(input(\"Enter length c: \"))\n",
        "s=(a+b+c)/2\n",
        "A=(s*(s-a)*(s-b)*(s-c))**0.5\n",
        "print(\"Area of triangle= {} units\".format(A))"
      ],
      "execution_count": null,
      "outputs": [
        {
          "output_type": "stream",
          "text": [
            "Enter length a: 3\n",
            "Enter length b: 4\n",
            "Enter length c: 5\n",
            "Area of triangle= 6.0 units\n"
          ],
          "name": "stdout"
        }
      ]
    },
    {
      "cell_type": "code",
      "metadata": {
        "id": "lCV4d31XZvh3",
        "colab_type": "code",
        "colab": {
          "base_uri": "https://localhost:8080/",
          "height": 51
        },
        "outputId": "37f93be6-255b-4248-fd36-06ea79f47a35"
      },
      "source": [
        "#2. Take a string from end user and check if the value is palindrome or not.\n",
        "def isPalindrome(s):\n",
        "  return s==s[::-1]\n",
        "s=input(\"Enter the string: \")\n",
        "a=isPalindrome(s)\n",
        "if a:\n",
        "  print(\"Palindrome\")\n",
        "else:\n",
        "  print(\"Not a Palindrome\")"
      ],
      "execution_count": null,
      "outputs": [
        {
          "output_type": "stream",
          "text": [
            "Enter the string: malayalam\n",
            "Palindrome\n"
          ],
          "name": "stdout"
        }
      ]
    },
    {
      "cell_type": "code",
      "metadata": {
        "id": "mTc56aOZaHNn",
        "colab_type": "code",
        "colab": {
          "base_uri": "https://localhost:8080/",
          "height": 51
        },
        "outputId": "dc0c8f05-e8ee-43e6-cd1f-ce0b3ee9826a"
      },
      "source": [
        "#3. Write a program that reads a year from the user and displays a message indicating whether year is leap year or not. \n",
        "year=int(input(\"Enter year: \"))\n",
        "if (year%4==0):\n",
        "  if (year%100==0):\n",
        "    if (year%400==0):\n",
        "      print(\"{} is a Leap year\".format(year))\n",
        "    else:\n",
        "      print(\"{} is not a leap year\".format(year))\n",
        "  else:\n",
        "    print(\"{} is a leap year\".format(year))\n",
        "else:\n",
        "  print(\"{} is not a leap year\".format(year))"
      ],
      "execution_count": null,
      "outputs": [
        {
          "output_type": "stream",
          "text": [
            "Enter year: 2012\n",
            "2012 is a leap year\n"
          ],
          "name": "stdout"
        }
      ]
    },
    {
      "cell_type": "code",
      "metadata": {
        "id": "Jrti-RmkaMOE",
        "colab_type": "code",
        "colab": {
          "base_uri": "https://localhost:8080/",
          "height": 68
        },
        "outputId": "91053b0d-98af-43c7-9c2a-63a3d03fa107"
      },
      "source": [
        "#4. Space to Hyphen problem\n",
        "#   Take a string as input, and replaces spaces \" \" with hyphens \"-\", and returns a string.\n",
        "#   Input: \"This program converts spaces into hyphen\"\n",
        "#   Output: \"This-program-converts-spaces-into-hyphen\"\n",
        "str1=input(\"Enter string: \")\n",
        "str2=str1.replace(' ','-')\n",
        "print(\"Input={}\".format(str1))\n",
        "print(\"Output={}\".format(str2))"
      ],
      "execution_count": null,
      "outputs": [
        {
          "output_type": "stream",
          "text": [
            "Enter string: This program coverts spaces to hyphen\n",
            "Input=This program coverts spaces to hyphen\n",
            "Output=This-program-coverts-spaces-to-hyphen\n"
          ],
          "name": "stdout"
        }
      ]
    },
    {
      "cell_type": "code",
      "metadata": {
        "id": "lKKgeAqB2pvk",
        "colab_type": "code",
        "colab": {
          "base_uri": "https://localhost:8080/",
          "height": 187
        },
        "outputId": "1a02ca92-6267-4bd8-9080-0bd869a764c7"
      },
      "source": [
        "#5. Unique Sort Problem.\n",
        "#   Take a string as input that accepts a comma separated sequence of words as input and prints the unique words in sorted form (alphanumerically).\n",
        "#   Input: orange,white,red,cyan,green,magenta,cyan,pink,white\n",
        "#   Output: cyan,green,magenta,orange,pink,red,white \n",
        "lst=[]\n",
        "n=int(input(\"Enter number of elements: \"))\n",
        "for i in range(0,n):\n",
        "  elements=input()\n",
        "  lst.append(elements)\n",
        "print(lst)\n",
        "lst.sort()\n",
        "print(lst)"
      ],
      "execution_count": null,
      "outputs": [
        {
          "output_type": "stream",
          "text": [
            "Enter number of elements: 7\n",
            "orange\n",
            "white\n",
            "red\n",
            "cyan\n",
            "green\n",
            "magenta\n",
            "pink\n",
            "['orange', 'white', 'red', 'cyan', 'green', 'magenta', 'pink']\n",
            "['cyan', 'green', 'magenta', 'orange', 'pink', 'red', 'white']\n"
          ],
          "name": "stdout"
        }
      ]
    },
    {
      "cell_type": "code",
      "metadata": {
        "id": "a5uZ0RcH7AUu",
        "colab_type": "code",
        "colab": {
          "base_uri": "https://localhost:8080/",
          "height": 68
        },
        "outputId": "1c96ddac-9aec-4dbe-cb71-87be8bf8143d"
      },
      "source": [
        "#6. Tax Calculator\n",
        "#   Ask the user for their monthly salary. Calculate whether they have to pay tax and if so,\n",
        "#   how much is that amount .Print the result.\n",
        "s=int(input(\"Enter monthly salary= \"))\n",
        "if s<=250000:\n",
        "  print(\"No tax\")\n",
        "elif s>=250001 and s<=500000:\n",
        "  print(\"Tax rate is 5%\")\n",
        "  print(\"Tax amount=\",(s*5)/100)\n",
        "elif s>=500001 and s<=750000:\n",
        "  print(\"Tax rate is 10%\")\n",
        "  print(\"Tax amount=\",(s*10)/100)\n",
        "elif s>=750001 and s<=1000000:\n",
        "  print(\"Tax rate is 15%\")\n",
        "  print(\"Tax amount=\",(s*15)/100)\n",
        "elif s>=1000001 and s<=1250000:\n",
        "  print(\"Tax rate is 20%\")\n",
        "  print(\"Tax amount=\",(s*20)/100)\n",
        "elif s>=1250001 and s<=1500000:\n",
        "  print(\"Tax rate is 25%\")\n",
        "  print(\"Tax amount=\",(s*25)/100)\n",
        "else:\n",
        "  print(\"Tax rate is 30%\")\n",
        "  print(\"Tax amount=\",(s*30)/100)"
      ],
      "execution_count": null,
      "outputs": [
        {
          "output_type": "stream",
          "text": [
            "Enter monthly salary= 750001\n",
            "Tax rate is 15%\n",
            "Tax amount= 112500.15\n"
          ],
          "name": "stdout"
        }
      ]
    },
    {
      "cell_type": "code",
      "metadata": {
        "id": "sjiKJ4Xidwc4",
        "colab_type": "code",
        "colab": {
          "base_uri": "https://localhost:8080/",
          "height": 119
        },
        "outputId": "88c42ef0-b3f8-445b-fff6-c84aae96ae85"
      },
      "source": [
        "#7. Take a list of integers as an argument, and converts it into a single integer (return the integer).\n",
        "#   input:[11,33,50]\n",
        "#   output:113350\n",
        "lst=[]\n",
        "n=int(input(\"Enter number of elements: \"))\n",
        "for i in range(0,n):\n",
        "  elements=input()\n",
        "  lst.append(elements)\n",
        "print(lst)\n",
        "s=' '\n",
        "for i in range(0,n):\n",
        "  s+=lst[i]\n",
        "print(\"Output={}\".format(s))"
      ],
      "execution_count": null,
      "outputs": [
        {
          "output_type": "stream",
          "text": [
            "Enter number of elements: 3\n",
            "11\n",
            "33\n",
            "50\n",
            "['11', '33', '50']\n",
            "Output= 113350\n"
          ],
          "name": "stdout"
        }
      ]
    },
    {
      "cell_type": "code",
      "metadata": {
        "id": "5eDOvm0opN-d",
        "colab_type": "code",
        "colab": {
          "base_uri": "https://localhost:8080/",
          "height": 102
        },
        "outputId": "1337ed6e-4305-47bd-fa7e-5dcdc14435cd"
      },
      "source": [
        "#8. Units of Time\n",
        "#   Create a program that reads duration from the user as a number of days, hours, minutes, and seconds. \n",
        "#   Compute and display the total number of seconds represented by this duration.\n",
        "days=int(input(\"Enter number of days: \"))\n",
        "hours=int(input(\"Enter number of hours: \"))\n",
        "mins=int(input(\"Enter number of minutes: \"))\n",
        "secs=int(input(\"Enter number of seconds: \"))\n",
        "tsecs=(days*24*60*60)+(hours*60*60)+(mins*60)+secs\n",
        "print(\"Total seconds for {} days,{} hours,{} minutes and {} seconds = {} seconds \".format(days,hours,mins,secs,tsecs))"
      ],
      "execution_count": null,
      "outputs": [
        {
          "output_type": "stream",
          "text": [
            "Enter number of days: 12\n",
            "Enter number of hours: 5\n",
            "Enter number of minutes: 4\n",
            "Enter number of seconds: 10\n",
            "Total seconds for 12 days,5 hours,4 minutes and 10 seconds = 1055050 seconds \n"
          ],
          "name": "stdout"
        }
      ]
    },
    {
      "cell_type": "code",
      "metadata": {
        "id": "_bgWrtS6rZqj",
        "colab_type": "code",
        "colab": {
          "base_uri": "https://localhost:8080/",
          "height": 85
        },
        "outputId": "6f667842-ccfc-4ec6-b22f-b6d15df982ae"
      },
      "source": [
        "#9. Sort 3 integers\n",
        "#   Given three integers (given through user input), sort the numbers using |min| and |max| functions.\n",
        "\n",
        "a=int(input(\"Enter the number of a:\"))\n",
        "b=int(input(\"Enter the number of b:\"))\n",
        "c=int(input(\"Enter the number of c:\"))\n",
        "d=min(a,b,c)\n",
        "e=max(a,b,c)\n",
        "f=(a+b+c)-d-e\n",
        "print(\"The Sorted order is:\",d,f,e)\n"
      ],
      "execution_count": 1,
      "outputs": [
        {
          "output_type": "stream",
          "text": [
            "Enter the number of a:29\n",
            "Enter the number of b:11\n",
            "Enter the number of c:9\n",
            "The Sorted order is: 9 11 29\n"
          ],
          "name": "stdout"
        }
      ]
    },
    {
      "cell_type": "code",
      "metadata": {
        "id": "7yFDzCTvtMBi",
        "colab_type": "code",
        "colab": {
          "base_uri": "https://localhost:8080/",
          "height": 85
        },
        "outputId": "07cf2c99-687a-4657-ef7c-f13b6a68cea3"
      },
      "source": [
        "#10.  Write a program that reads a date from the user and computes its immediate successor.The date is the format YYYY-MM-DD. So, 2020-04-15\n",
        "#     will have the successor 2020-04-16.\n",
        "\n",
        "year=int(input(\"Enter year: \"))\n",
        "month=int(input(\"Enter month: \"))\n",
        "day=int(input(\"Enter day: \"))\n",
        "if month==1 or month==3 or month==5 or month==7 or month==8 or month==10:\n",
        "  if day==31:\n",
        "    day=1\n",
        "    print(\"{}-{}-{}\".format(year,month+1,day))\n",
        "  else:\n",
        "    print(\"{}-{}-{}\".format(year,month,day+1))\n",
        "elif month==2:\n",
        "  if (year%4==0) or (year%100==0) or (year%400==0):\n",
        "    if day==29:\n",
        "      day=1\n",
        "      print(\"{}-{}-{}\".format(year,month+1,day))\n",
        "  if day==28:\n",
        "      day=1\n",
        "      print(\"{}-{}-{}\".format(year,month+1,day))\n",
        "else:\n",
        "  if month==12 and day==31:\n",
        "    month=1\n",
        "    day=1\n",
        "    print(\"{}-{}-{}\".format(year+1,month,day))\n",
        "  else:\n",
        "    if day==30:\n",
        "      day=1\n",
        "      print(\"{}-{}-{}\".format(year,month+1,day))\n",
        "    else:\n",
        "      print(\"{}-{}-{}\".format(year,month,day+1))\n"
      ],
      "execution_count": null,
      "outputs": [
        {
          "output_type": "stream",
          "text": [
            "Enter year: 2012\n",
            "Enter month: 12\n",
            "Enter day: 31\n",
            "2013-1-1\n"
          ],
          "name": "stdout"
        }
      ]
    },
    {
      "cell_type": "code",
      "metadata": {
        "id": "RSXP3j0H7Iln",
        "colab_type": "code",
        "colab": {
          "base_uri": "https://localhost:8080/",
          "height": 119
        },
        "outputId": "1c2a5448-2dac-42cc-b876-43fac33ae309"
      },
      "source": [
        "#11. Compute product of a list of numbers [45,3,2,89,72,1,10,7]\n",
        "#    Output: 121111200\n",
        "lst=[]\n",
        "n=int(input(\"Enter number of elements: \"))\n",
        "for i in range(0,n):\n",
        "  elements=int(input())\n",
        "  lst.append(elements)\n",
        "print(lst)\n",
        "s=1\n",
        "for i in range(0,n):\n",
        "  s*=lst[i]\n",
        "print(\"Output={}\".format(s))"
      ],
      "execution_count": null,
      "outputs": [
        {
          "output_type": "stream",
          "text": [
            "Enter number of elements: 3\n",
            "3\n",
            "2\n",
            "4\n",
            "[3, 2, 4]\n",
            "Output=24\n"
          ],
          "name": "stdout"
        }
      ]
    },
    {
      "cell_type": "code",
      "metadata": {
        "id": "vss14Jhh8MZr",
        "colab_type": "code",
        "colab": {
          "base_uri": "https://localhost:8080/",
          "height": 34
        },
        "outputId": "67c8fdb7-eaef-4937-b9fc-09502f1aa088"
      },
      "source": [
        "#12.  Compute given Num_list=[5,6,8,34,89,1] to get desired output.\n",
        "#     Output : Out_list=[11,14,42,123,90]\n",
        "\n",
        "l=[5,6,8,34,89,1]\n",
        "Out_list=[]\n",
        "for i in range(len(l)-1):\n",
        "    ol=l[i]+l[i+1]\n",
        "    Out_list.append(ol)\n",
        "print(\"Out_list=\",Out_list)"
      ],
      "execution_count": 4,
      "outputs": [
        {
          "output_type": "stream",
          "text": [
            "Out_list= [11, 14, 42, 123, 90]\n"
          ],
          "name": "stdout"
        }
      ]
    },
    {
      "cell_type": "code",
      "metadata": {
        "id": "hyIf5J94MKsV",
        "colab_type": "code",
        "colab": {
          "base_uri": "https://localhost:8080/",
          "height": 34
        },
        "outputId": "2e626947-28ac-4afd-885a-10faaa848747"
      },
      "source": [
        "#13.  Compute given Num_tuple=(5,6,8,3,9,1) to get desired output.\n",
        "#     Output : Out_list=[5,30,240,720,6480,6480]  \n",
        "\n",
        "n=(5,6,8,3,9,1)\n",
        "Out_list=[]\n",
        "Out_list.append(n[0])\n",
        "for i in range(len(n)-1):\n",
        "    m=Out_list[i]*n[i+1]\n",
        "    Out_list.append(m)\n",
        "print(\"Out_list=\",Out_list)\n"
      ],
      "execution_count": 19,
      "outputs": [
        {
          "output_type": "stream",
          "text": [
            "Out_list= [5, 30, 240, 720, 6480, 6480]\n"
          ],
          "name": "stdout"
        }
      ]
    },
    {
      "cell_type": "code",
      "metadata": {
        "id": "YBOcwuw9IrSo",
        "colab_type": "code",
        "colab": {
          "base_uri": "https://localhost:8080/",
          "height": 51
        },
        "outputId": "9fa5b9a6-8c01-4bde-aad5-c24052796e59"
      },
      "source": [
        "#14.  Write a Python code that takes a number and returns a list of its digits. So for 586392 it should return [5,8,6,3,9,2].\n",
        "\n",
        "number=input(\"Enter a number: \")\n",
        "list=[]\n",
        "for n in range(len(number)):\n",
        "    list.append(number[n])\n",
        "    str(list)\n",
        "    for i in range(0, len(list)): \n",
        "      list[i] = int(list[i])\n",
        "print(list)"
      ],
      "execution_count": 18,
      "outputs": [
        {
          "output_type": "stream",
          "text": [
            "Enter a number: 586392\n",
            "[5, 8, 6, 3, 9, 2]\n"
          ],
          "name": "stdout"
        }
      ]
    },
    {
      "cell_type": "code",
      "metadata": {
        "id": "P77LLtozM5L8",
        "colab_type": "code",
        "colab": {
          "base_uri": "https://localhost:8080/",
          "height": 51
        },
        "outputId": "9ea21af6-7c86-4752-be6c-4c436fe1b920"
      },
      "source": [
        "#15. Write a program that finds the longest palindromic substring of a given string.\n",
        "\n",
        "def longestpalindrome(n):\n",
        "    d=[[False for i in range(len(n))] for i in range(len(n))]\n",
        "    for i in range(len(n)):\n",
        "        d[i][i]=True\n",
        "    maxlen=1\n",
        "    start=0\n",
        "    for j in range(2,len(n)+1):\n",
        "        for i in range(len(n)-j+1):\n",
        "            end=i+j\n",
        "            if j==2:\n",
        "                if n[i]==n[end-1]:\n",
        "                    d[i][end-1]=True\n",
        "                    maxlen=j\n",
        "                    start=i\n",
        "            else:\n",
        "                if n[i]==n[end-1] and d[i+1][end-2]:\n",
        "                    d[i][end-1]=True\n",
        "                    maxlen=j\n",
        "                    start=i\n",
        "    return n[start:start+maxlen]\n",
        "n=input(\"Enter a string : \")\n",
        "print(longestpalindrome(n))\n"
      ],
      "execution_count": 7,
      "outputs": [
        {
          "output_type": "stream",
          "text": [
            "Enter a string : malayalam\n",
            "malayalam\n"
          ],
          "name": "stdout"
        }
      ]
    },
    {
      "cell_type": "code",
      "metadata": {
        "id": "jSkbojwfJPf2",
        "colab_type": "code",
        "colab": {
          "base_uri": "https://localhost:8080/",
          "height": 68
        },
        "outputId": "ad0b0136-90c3-45f1-ab33-993fbd436d9c"
      },
      "source": [
        "#16.  Substring Check (Bug Funny)\n",
        "#     Given two binary strings, A (of length 10) and B (of length 5), output 1 if B is a substring of A and 0 otherwise.\n",
        "#     First two lines of input:\n",
        "#     1010110010          10110\n",
        "#     1110111011           10011\n",
        "#     First two lines of output:\n",
        "#     1\n",
        "#     0 \n",
        "a=input(\"Enter str1= \")\n",
        "b=input(\"Enter str2= \")\n",
        "if b in a:\n",
        "  print(1)\n",
        "else:\n",
        "  print(0)"
      ],
      "execution_count": null,
      "outputs": [
        {
          "output_type": "stream",
          "text": [
            "Enter str1= 1110111011\n",
            "Enter str2= 10011\n",
            "0\n"
          ],
          "name": "stdout"
        }
      ]
    },
    {
      "cell_type": "code",
      "metadata": {
        "id": "kBgCBYHqNDGi",
        "colab_type": "code",
        "colab": {
          "base_uri": "https://localhost:8080/",
          "height": 170
        },
        "outputId": "e54073fc-41cc-4476-9b02-7d80d4fd1b13"
      },
      "source": [
        "# problem-17\n",
        "def gcd(a,b):\n",
        "    if b==0: \n",
        "        return a \n",
        "    return gcd(b,a%b) \n",
        "def countsteps(a,b,c): \n",
        "    v1=b\n",
        "    v2=0\n",
        "    count=1\n",
        "    while ((v1 is not c) and (v2 is not c)): \n",
        "        temp=min(v1,a-v2) \n",
        "        v2=v2+temp \n",
        "        v1=v1-temp \n",
        "        count=count+1\n",
        "        if ((v2==c)or(v1==c)): \n",
        "            break\n",
        "        if v1==0: \n",
        "            v1=b \n",
        "            count=count+1\n",
        "        if v2==a: \n",
        "            v2=0\n",
        "            count=count+1\n",
        "    return count \n",
        "def ispossible(a,b,c): \n",
        "    if a>b: \n",
        "        temp=a \n",
        "        a=b \n",
        "        b=temp \n",
        "    if c>b: \n",
        "        return -1\n",
        "    if (c%(gcd(b,a)) is not 0): \n",
        "        return -1\n",
        "    return(min(countsteps(b,a,c),countsteps(a,b,c)))\n",
        "t=int(input(\"Enter no of testcases : \"))\n",
        "for i in range(t):\n",
        "  a=int(input(\"Enter capacity of vessel a : \"))\n",
        "  b=int(input(\"Enter capacity of vessel b : \"))\n",
        "  c=int(input(\"Enter capacity to be obtained :\"))\n",
        "  print(\"Minimum number of steps required is : \",ispossible(a,b,c))"
      ],
      "execution_count": 8,
      "outputs": [
        {
          "output_type": "stream",
          "text": [
            "Enter no of testcases : 2\n",
            "Enter capacity of vessel a : 5\n",
            "Enter capacity of vessel b : 2\n",
            "Enter capacity to be obtained :3\n",
            "Enter capacity of vessel a : 2\n",
            "Minimum number of steps required is :  2\n",
            "Enter capacity of vessel b : 3\n",
            "Enter capacity to be obtained :4\n",
            "Minimum number of steps required is :  -1\n"
          ],
          "name": "stdout"
        }
      ]
    }
  ]
}